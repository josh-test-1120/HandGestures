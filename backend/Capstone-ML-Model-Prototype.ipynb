{
 "cells": [
  {
   "cell_type": "markdown",
   "id": "5499ffe8",
   "metadata": {},
   "source": [
    "# Hand Gestures Capstone Project Prototype LSTM ML Model"
   ]
  },
  {
   "cell_type": "markdown",
   "id": "940f9fe6",
   "metadata": {},
   "source": [
    "The model below uses LSTM ML Model to learn patterns of normal, tremor, tonic, and postural phases in a epileptic seizure. The training CSV files are organized in a directory:<br>\n",
    "data/<br>\n",
    "├── normal/<br>\n",
    "│   ├── normal1.csv<br>\n",
    "│   └── normal2.csv<br>\n",
    "├── tremor/<br>\n",
    "│   ├── tremor1.csv<br>\n",
    "│   └── tremor2.csv<br>\n",
    "...<br>\n",
    "\n",
    "And the files will be fed into the ML model to to final result of 4 categorical outputs of normal, tremor, tonic, and postural phases with varying probability."
   ]
  },
  {
   "cell_type": "code",
   "execution_count": null,
   "id": "cba9b72e",
   "metadata": {},
   "outputs": [],
   "source": [
    "import torch\n",
    "from torch.utils.data import Dataset\n",
    "import pandas as pd\n",
    "import numpy as np\n",
    "\n",
    "class MotionDataset(Dataset):\n",
    "    def __init__(self, csv_file, sequence_length=100):\n",
    "        self.data = pd.read_csv(csv_file)\n",
    "        self.sequence_length = sequence_length\n",
    "\n",
    "        # Normalize or standardize features if needed\n",
    "        self.features = self.data[[\n",
    "            'AccelX(g)', 'AccelY(g)', 'AccelZ(g)',\n",
    "            'GyroX(deg/s)', 'GyroY(deg/s)', 'GyroZ(deg/s)',\n",
    "            'DistanceLeft(cm)', 'DistanceRight(cm)'\n",
    "        ]].values\n",
    "\n",
    "        # Placeholder: Assume labels are in a column called \"label\"\n",
    "        self.labels = self.data['label'].values\n",
    "\n",
    "        # Chunk into sequences\n",
    "        self.sequences, self.sequence_labels = self.create_sequences()\n",
    "\n",
    "    def create_sequences(self):\n",
    "        sequences = []\n",
    "        labels = []\n",
    "        for i in range(0, len(self.features) - self.sequence_length):\n",
    "            sequence = self.features[i:i+self.sequence_length]\n",
    "            label = self.labels[i+self.sequence_length-1]  # Label at end of window\n",
    "            sequences.append(sequence)\n",
    "            labels.append(label)\n",
    "        return np.array(sequences), np.array(labels)\n",
    "\n",
    "    def __len__(self):\n",
    "        return len(self.sequences)\n",
    "\n",
    "    def __getitem__(self, idx):\n",
    "        return torch.tensor(self.sequences[idx], dtype=torch.float32), torch.tensor(self.sequence_labels[idx], dtype=torch.long)\n"
   ]
  },
  {
   "cell_type": "code",
   "execution_count": null,
   "id": "ce5132f4",
   "metadata": {},
   "outputs": [],
   "source": [
    "import os\n",
    "from glob import glob\n",
    "\n",
    "def get_file_label_pairs_by_folder(base_dir):\n",
    "    label_map = {}\n",
    "    file_label_pairs = []\n",
    "\n",
    "    for i, folder_name in enumerate(sorted(os.listdir(base_dir))):\n",
    "        folder_path = os.path.join(base_dir, folder_name)\n",
    "        if os.path.isdir(folder_path):\n",
    "            label_map[folder_name] = i\n",
    "            for file_path in glob(os.path.join(folder_path, \"*.csv\")):\n",
    "                file_label_pairs.append((file_path, i))\n",
    "    \n",
    "    return file_label_pairs, label_map\n",
    "\n",
    "# Example:\n",
    "file_label_pairs, label_map = get_file_label_pairs_by_folder(\"data\")\n",
    "print(\"Labels:\", label_map)\n"
   ]
  },
  {
   "cell_type": "code",
   "execution_count": null,
   "id": "17ac73f2",
   "metadata": {},
   "outputs": [],
   "source": [
    "import torch.nn as nn\n",
    "\n",
    "class SeizureLSTM(nn.Module):\n",
    "    def __init__(self, input_size=8, hidden_size=64, num_layers=2, num_classes=4):\n",
    "        super(SeizureLSTM, self).__init__()\n",
    "        self.lstm = nn.LSTM(input_size, hidden_size, num_layers, batch_first=True)\n",
    "        self.fc = nn.Linear(hidden_size, num_classes)\n",
    "\n",
    "    def forward(self, x):\n",
    "        out, _ = self.lstm(x)\n",
    "        out = out[:, -1, :]  # Last time step\n",
    "        out = self.fc(out)\n",
    "        return out"
   ]
  },
  {
   "cell_type": "code",
   "execution_count": null,
   "id": "4fe0fcff",
   "metadata": {},
   "outputs": [],
   "source": [
    "from torch.utils.data import DataLoader\n",
    "\n",
    "def train(model, dataset, epochs=20, batch_size=32, lr=0.001):\n",
    "    dataloader = DataLoader(dataset, batch_size=batch_size, shuffle=True)\n",
    "    optimizer = torch.optim.Adam(model.parameters(), lr=lr)\n",
    "    criterion = nn.CrossEntropyLoss()\n",
    "\n",
    "    for epoch in range(epochs):\n",
    "        model.train()\n",
    "        total_loss = 0\n",
    "        for X_batch, y_batch in dataloader:\n",
    "            optimizer.zero_grad()\n",
    "            outputs = model(X_batch)\n",
    "            loss = criterion(outputs, y_batch)\n",
    "            loss.backward()\n",
    "            optimizer.step()\n",
    "            total_loss += loss.item()\n",
    "\n",
    "        print(f\"Epoch {epoch+1}/{epochs}, Loss: {total_loss:.4f}\")\n"
   ]
  },
  {
   "cell_type": "code",
   "execution_count": null,
   "id": "0a6aae7f",
   "metadata": {},
   "outputs": [],
   "source": [
    "label_map = {\n",
    "    \"normal\": 0,\n",
    "    \"tremor\": 1,\n",
    "    \"tonic\": 2,\n",
    "    \"postural\": 3\n",
    "}"
   ]
  },
  {
   "cell_type": "code",
   "execution_count": null,
   "id": "8cb2adfa",
   "metadata": {},
   "outputs": [],
   "source": [
    "# Load dataset\n",
    "dataset = MotionDataset(\"data.csv\")\n",
    "\n",
    "# Create model\n",
    "model = SeizureLSTM(input_size=8, num_classes=4)  # assuming 4 classes: normal, tremor, tonic, posture\n",
    "\n",
    "# Train\n",
    "train(model, dataset)\n"
   ]
  }
 ],
 "metadata": {
  "kernelspec": {
   "display_name": "Python 3 (ipykernel)",
   "language": "python",
   "name": "python3"
  },
  "language_info": {
   "codemirror_mode": {
    "name": "ipython",
    "version": 3
   },
   "file_extension": ".py",
   "mimetype": "text/x-python",
   "name": "python",
   "nbconvert_exporter": "python",
   "pygments_lexer": "ipython3",
   "version": "3.11.5"
  }
 },
 "nbformat": 4,
 "nbformat_minor": 5
}
